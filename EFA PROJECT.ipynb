{
 "cells": [
  {
   "cell_type": "code",
   "execution_count": 3,
   "id": "religious-participant",
   "metadata": {},
   "outputs": [],
   "source": [
    "import numpy as np\n",
    "import matplotlib.pyplot as plt\n",
    "import pandas as pd\n",
    "import seaborn as sns"
   ]
  },
  {
   "cell_type": "code",
   "execution_count": 2,
   "id": "environmental-scientist",
   "metadata": {},
   "outputs": [
    {
     "name": "stdout",
     "output_type": "stream",
     "text": [
      "Collecting seaborn\n",
      "  Downloading seaborn-0.11.1-py3-none-any.whl (285 kB)\n",
      "Requirement already satisfied: matplotlib>=2.2 in c:\\users\\keshav anand\\appdata\\local\\programs\\python\\python37\\lib\\site-packages (from seaborn) (3.4.2)\n",
      "Requirement already satisfied: scipy>=1.0 in c:\\users\\keshav anand\\appdata\\local\\programs\\python\\python37\\lib\\site-packages (from seaborn) (1.7.1)\n",
      "Requirement already satisfied: pandas>=0.23 in c:\\users\\keshav anand\\appdata\\roaming\\python\\python37\\site-packages (from seaborn) (1.2.3)\n",
      "Requirement already satisfied: numpy>=1.15 in c:\\users\\keshav anand\\appdata\\roaming\\python\\python37\\site-packages (from seaborn) (1.20.1)\n",
      "Requirement already satisfied: pyparsing>=2.2.1 in c:\\users\\keshav anand\\appdata\\local\\programs\\python\\python37\\lib\\site-packages (from matplotlib>=2.2->seaborn) (2.4.7)\n",
      "Requirement already satisfied: cycler>=0.10 in c:\\users\\keshav anand\\appdata\\local\\programs\\python\\python37\\lib\\site-packages (from matplotlib>=2.2->seaborn) (0.10.0)\n",
      "Requirement already satisfied: kiwisolver>=1.0.1 in c:\\users\\keshav anand\\appdata\\local\\programs\\python\\python37\\lib\\site-packages (from matplotlib>=2.2->seaborn) (1.3.1)\n",
      "Requirement already satisfied: python-dateutil>=2.7 in c:\\users\\keshav anand\\appdata\\roaming\\python\\python37\\site-packages (from matplotlib>=2.2->seaborn) (2.8.1)\n",
      "Requirement already satisfied: pillow>=6.2.0 in c:\\users\\keshav anand\\appdata\\local\\programs\\python\\python37\\lib\\site-packages (from matplotlib>=2.2->seaborn) (8.3.1)\n",
      "Requirement already satisfied: six in c:\\users\\keshav anand\\appdata\\roaming\\python\\python37\\site-packages (from cycler>=0.10->matplotlib>=2.2->seaborn) (1.15.0)\n",
      "Requirement already satisfied: pytz>=2017.3 in c:\\users\\keshav anand\\appdata\\roaming\\python\\python37\\site-packages (from pandas>=0.23->seaborn) (2021.1)\n",
      "Installing collected packages: seaborn\n",
      "Successfully installed seaborn-0.11.1\n"
     ]
    },
    {
     "name": "stderr",
     "output_type": "stream",
     "text": [
      "WARNING: You are using pip version 21.1.3; however, version 21.2.3 is available.\n",
      "You should consider upgrading via the 'c:\\users\\keshav anand\\appdata\\local\\programs\\python\\python37\\python.exe -m pip install --upgrade pip' command.\n"
     ]
    }
   ],
   "source": [
    "! pip install seaborn"
   ]
  },
  {
   "cell_type": "code",
   "execution_count": 4,
   "id": "simplified-irish",
   "metadata": {},
   "outputs": [],
   "source": [
    "train = pd.read_excel(\"train.xlsx\")\n",
    "test = pd.read_excel(\"test.xlsx\")"
   ]
  },
  {
   "cell_type": "code",
   "execution_count": 5,
   "id": "responsible-cooper",
   "metadata": {},
   "outputs": [
    {
     "data": {
      "text/plain": [
       "(25976, 25)"
      ]
     },
     "execution_count": 5,
     "metadata": {},
     "output_type": "execute_result"
    }
   ],
   "source": [
    "test.shape"
   ]
  },
  {
   "cell_type": "code",
   "execution_count": 6,
   "id": "sudden-nursing",
   "metadata": {},
   "outputs": [
    {
     "name": "stdout",
     "output_type": "stream",
     "text": [
      "(103904, 14)\n",
      "(25976, 14)\n"
     ]
    },
    {
     "data": {
      "text/html": [
       "<div>\n",
       "<style scoped>\n",
       "    .dataframe tbody tr th:only-of-type {\n",
       "        vertical-align: middle;\n",
       "    }\n",
       "\n",
       "    .dataframe tbody tr th {\n",
       "        vertical-align: top;\n",
       "    }\n",
       "\n",
       "    .dataframe thead th {\n",
       "        text-align: right;\n",
       "    }\n",
       "</style>\n",
       "<table border=\"1\" class=\"dataframe\">\n",
       "  <thead>\n",
       "    <tr style=\"text-align: right;\">\n",
       "      <th></th>\n",
       "      <th>Inflight wifi service</th>\n",
       "      <th>Departure/Arrival time convenient</th>\n",
       "      <th>Ease of Online booking</th>\n",
       "      <th>Gate location</th>\n",
       "      <th>Food and drink</th>\n",
       "      <th>Online boarding</th>\n",
       "      <th>Seat comfort</th>\n",
       "      <th>Inflight entertainment</th>\n",
       "      <th>On-board service</th>\n",
       "      <th>Leg room service</th>\n",
       "      <th>Baggage handling</th>\n",
       "      <th>Checkin service</th>\n",
       "      <th>Inflight service</th>\n",
       "      <th>Cleanliness</th>\n",
       "    </tr>\n",
       "  </thead>\n",
       "  <tbody>\n",
       "    <tr>\n",
       "      <th>0</th>\n",
       "      <td>3</td>\n",
       "      <td>4</td>\n",
       "      <td>3</td>\n",
       "      <td>1</td>\n",
       "      <td>5</td>\n",
       "      <td>3</td>\n",
       "      <td>5</td>\n",
       "      <td>5</td>\n",
       "      <td>4</td>\n",
       "      <td>3</td>\n",
       "      <td>4</td>\n",
       "      <td>4</td>\n",
       "      <td>5</td>\n",
       "      <td>5</td>\n",
       "    </tr>\n",
       "    <tr>\n",
       "      <th>1</th>\n",
       "      <td>3</td>\n",
       "      <td>2</td>\n",
       "      <td>3</td>\n",
       "      <td>3</td>\n",
       "      <td>1</td>\n",
       "      <td>3</td>\n",
       "      <td>1</td>\n",
       "      <td>1</td>\n",
       "      <td>1</td>\n",
       "      <td>5</td>\n",
       "      <td>3</td>\n",
       "      <td>1</td>\n",
       "      <td>4</td>\n",
       "      <td>1</td>\n",
       "    </tr>\n",
       "    <tr>\n",
       "      <th>2</th>\n",
       "      <td>2</td>\n",
       "      <td>2</td>\n",
       "      <td>2</td>\n",
       "      <td>2</td>\n",
       "      <td>5</td>\n",
       "      <td>5</td>\n",
       "      <td>5</td>\n",
       "      <td>5</td>\n",
       "      <td>4</td>\n",
       "      <td>3</td>\n",
       "      <td>4</td>\n",
       "      <td>4</td>\n",
       "      <td>4</td>\n",
       "      <td>5</td>\n",
       "    </tr>\n",
       "    <tr>\n",
       "      <th>3</th>\n",
       "      <td>2</td>\n",
       "      <td>5</td>\n",
       "      <td>5</td>\n",
       "      <td>5</td>\n",
       "      <td>2</td>\n",
       "      <td>2</td>\n",
       "      <td>2</td>\n",
       "      <td>2</td>\n",
       "      <td>2</td>\n",
       "      <td>5</td>\n",
       "      <td>3</td>\n",
       "      <td>1</td>\n",
       "      <td>4</td>\n",
       "      <td>2</td>\n",
       "    </tr>\n",
       "    <tr>\n",
       "      <th>4</th>\n",
       "      <td>3</td>\n",
       "      <td>3</td>\n",
       "      <td>3</td>\n",
       "      <td>3</td>\n",
       "      <td>4</td>\n",
       "      <td>5</td>\n",
       "      <td>5</td>\n",
       "      <td>3</td>\n",
       "      <td>3</td>\n",
       "      <td>4</td>\n",
       "      <td>4</td>\n",
       "      <td>3</td>\n",
       "      <td>3</td>\n",
       "      <td>3</td>\n",
       "    </tr>\n",
       "  </tbody>\n",
       "</table>\n",
       "</div>"
      ],
      "text/plain": [
       "   Inflight wifi service  Departure/Arrival time convenient  \\\n",
       "0                      3                                  4   \n",
       "1                      3                                  2   \n",
       "2                      2                                  2   \n",
       "3                      2                                  5   \n",
       "4                      3                                  3   \n",
       "\n",
       "   Ease of Online booking  Gate location  Food and drink  Online boarding  \\\n",
       "0                       3              1               5                3   \n",
       "1                       3              3               1                3   \n",
       "2                       2              2               5                5   \n",
       "3                       5              5               2                2   \n",
       "4                       3              3               4                5   \n",
       "\n",
       "   Seat comfort  Inflight entertainment  On-board service  Leg room service  \\\n",
       "0             5                       5                 4                 3   \n",
       "1             1                       1                 1                 5   \n",
       "2             5                       5                 4                 3   \n",
       "3             2                       2                 2                 5   \n",
       "4             5                       3                 3                 4   \n",
       "\n",
       "   Baggage handling  Checkin service  Inflight service  Cleanliness  \n",
       "0                 4                4                 5            5  \n",
       "1                 3                1                 4            1  \n",
       "2                 4                4                 4            5  \n",
       "3                 3                1                 4            2  \n",
       "4                 4                3                 3            3  "
      ]
     },
     "execution_count": 6,
     "metadata": {},
     "output_type": "execute_result"
    }
   ],
   "source": [
    "X_train = train.iloc[:, 8:-3]\n",
    "X_test = test.iloc[:, 8:-3]\n",
    "print(X_train.shape)\n",
    "print(X_test.shape)\n",
    "X_train.head()"
   ]
  },
  {
   "cell_type": "code",
   "execution_count": 10,
   "id": "traditional-combat",
   "metadata": {},
   "outputs": [
    {
     "name": "stdout",
     "output_type": "stream",
     "text": [
      "(103904, 1)\n"
     ]
    },
    {
     "data": {
      "text/plain": [
       "(array(['neutral or dissatisfied', 'satisfied'], dtype=object),\n",
       " array([58879, 45025], dtype=int64))"
      ]
     },
     "execution_count": 10,
     "metadata": {},
     "output_type": "execute_result"
    }
   ],
   "source": [
    "train_target = train.iloc[:, -1:]\n",
    "print(train_target.shape)\n",
    "np.unique(train_target.values, return_counts = True)"
   ]
  },
  {
   "cell_type": "code",
   "execution_count": 11,
   "id": "reliable-report",
   "metadata": {},
   "outputs": [
    {
     "name": "stdout",
     "output_type": "stream",
     "text": [
      "(14, 103904)\n"
     ]
    }
   ],
   "source": [
    "# Zero centering the data\n",
    "X = X_train.values\n",
    "X_mean = np.mean(X, axis = 0)\n",
    "X_n = X - np.matrix(X_mean)\n",
    "X_n = X_n.T \n",
    "print(X_n.shape)"
   ]
  },
  {
   "cell_type": "code",
   "execution_count": 12,
   "id": "genuine-edmonton",
   "metadata": {},
   "outputs": [],
   "source": [
    "c1 = np.cov(X_n)\n",
    "c2 = np.corrcoef(X_n)"
   ]
  },
  {
   "cell_type": "code",
   "execution_count": 13,
   "id": "detected-radio",
   "metadata": {},
   "outputs": [
    {
     "data": {
      "image/png": "[encoded data removed]",
      "text/plain": [
       "<Figure size 432x288 with 2 Axes>"
      ]
     },
     "metadata": {
      "needs_background": "light"
     },
     "output_type": "display_data"
    }
   ],
   "source": [
    "ax = sns.heatmap(c2, cmap = \"Blues\")"
   ]
  },
  {
   "cell_type": "code",
   "execution_count": 18,
   "id": "qualified-croatia",
   "metadata": {},
   "outputs": [],
   "source": [
    "eig_val, eig_vec = np.linalg.eig(c1)\n",
    "eig_sorted = np.sort(eig_val)[::-1]\n",
    "arg_sort = np.argsort(eig_val)[::-1]"
   ]
  },
  {
   "cell_type": "code",
   "execution_count": 19,
   "id": "convenient-nightlife",
   "metadata": {},
   "outputs": [
    {
     "name": "stdout",
     "output_type": "stream",
     "text": [
      "[6.52815927 4.47255915 3.43215579 1.98504987 1.61162741 1.18057993\n",
      " 1.02652179 0.87877104 0.32742411 0.75170941 0.57857082 0.47242866\n",
      " 0.51571787 0.51339277]\n"
     ]
    }
   ],
   "source": [
    "print(eig_val)"
   ]
  },
  {
   "cell_type": "code",
   "execution_count": 20,
   "id": "adopted-council",
   "metadata": {},
   "outputs": [],
   "source": [
    "eig_vec_ls = []\n",
    "eig_val_ls = []"
   ]
  },
  {
   "cell_type": "code",
   "execution_count": 21,
   "id": "progressive-cathedral",
   "metadata": {},
   "outputs": [
    {
     "name": "stdout",
     "output_type": "stream",
     "text": [
      "[array([-0.27033179, -0.15491373, -0.21598175, -0.09124768, -0.32248111,\n",
      "       -0.31012556, -0.35572388, -0.42488029, -0.24281505, -0.20346816,\n",
      "       -0.20154101, -0.16263595, -0.20267719, -0.36360393]), array([-0.39021937, -0.49052653, -0.51498574, -0.37850549,  0.20260897,\n",
      "       -0.09688795,  0.1994409 ,  0.22052189,  0.06650134,  0.02366476,\n",
      "        0.04491473,  0.04552343,  0.04930291,  0.2197468 ]), array([-0.05306717,  0.00824977, -0.07508455, -0.06404967, -0.31940211,\n",
      "       -0.14576517, -0.27020783, -0.0037756 ,  0.4376789 ,  0.36397705,\n",
      "        0.42392401,  0.16410797,  0.43174682, -0.27201769])]\n",
      "[6.528159273595747, 4.472559148142883, 3.4321557866762826]\n"
     ]
    }
   ],
   "source": [
    "imp_vec = arg_sort[:3]\n",
    "for i in imp_vec:\n",
    "    eig_vec_ls.append(eig_vec[:, i])\n",
    "    eig_val_ls.append(eig_val[i])\n",
    "print(eig_vec_ls)\n",
    "print(eig_val_ls)"
   ]
  },
  {
   "cell_type": "code",
   "execution_count": 22,
   "id": "aboriginal-humanity",
   "metadata": {},
   "outputs": [
    {
     "name": "stdout",
     "output_type": "stream",
     "text": [
      "[[6.52815927 0.         0.        ]\n",
      " [0.         4.47255915 0.        ]\n",
      " [0.         0.         3.43215579]]\n",
      "[[-0.69070483 -0.82525254 -0.09831266]\n",
      " [-0.39580866 -1.03738639  0.01528359]\n",
      " [-0.55183905 -1.08911378 -0.13910223]\n",
      " [-0.23314023 -0.80047953 -0.11865892]\n",
      " [-0.8239477   0.42848608 -0.59172685]\n",
      " [-0.79237896 -0.20490276 -0.27004569]\n",
      " [-0.90888385  0.42178611 -0.50058914]\n",
      " [-1.08558032  0.46636909 -0.00699471]\n",
      " [-0.62039882  0.14063987  0.81084737]\n",
      " [-0.5198665   0.05004723  0.67430674]\n",
      " [-0.51494257  0.09498759  0.78536494]\n",
      " [-0.41553912  0.09627489  0.30402772]\n",
      " [-0.51784555  0.1042679   0.79985753]\n",
      " [-0.9290176   0.46472989 -0.50394211]]\n"
     ]
    }
   ],
   "source": [
    "# Estimate V\n",
    "eig_val_arr = np.array(eig_val_ls)\n",
    "lambda_1 = np.diag(eig_val_arr)\n",
    "print(lambda_1)\n",
    "eig_vec_mat = np.matrix(eig_vec_ls).T\n",
    "v = eig_vec_mat@np.sqrt(lambda_1)\n",
    "print(v)"
   ]
  },
  {
   "cell_type": "code",
   "execution_count": 23,
   "id": "least-clinic",
   "metadata": {},
   "outputs": [
    {
     "name": "stdout",
     "output_type": "stream",
     "text": [
      "(14,)\n",
      "[1.76311414 2.32583197 1.95698483 1.63229974 1.76764022 1.82115689\n",
      " 1.73997514 1.77684714 1.65984098 1.73079886 1.39451944 1.60121119\n",
      " 1.38217027 1.72204345]\n",
      "[[0.59533385 0.         0.         0.         0.         0.\n",
      "  0.         0.         0.         0.         0.         0.\n",
      "  0.         0.        ]\n",
      " [0.         1.09276337 0.         0.         0.         0.\n",
      "  0.         0.         0.         0.         0.         0.\n",
      "  0.         0.        ]\n",
      " [0.         0.         0.44694024 0.         0.         0.\n",
      "  0.         0.         0.         0.         0.         0.\n",
      "  0.         0.        ]\n",
      " [0.         0.         0.         0.92309795 0.         0.\n",
      "  0.         0.         0.         0.         0.         0.\n",
      "  0.         0.        ]\n",
      " [0.         0.         0.         0.         0.55500941 0.\n",
      "  0.         0.         0.         0.         0.         0.\n",
      "  0.         0.        ]\n",
      " [0.         0.         0.         0.         0.         1.07838266\n",
      "  0.         0.         0.         0.         0.         0.\n",
      "  0.         0.        ]\n",
      " [0.         0.         0.         0.         0.         0.\n",
      "  0.48541226 0.         0.         0.         0.         0.\n",
      "  0.         0.        ]\n",
      " [0.         0.         0.         0.         0.         0.\n",
      "  0.         0.38081347 0.         0.         0.         0.\n",
      "  0.         0.        ]\n",
      " [0.         0.         0.         0.         0.         0.\n",
      "  0.         0.         0.59769326 0.         0.         0.\n",
      "  0.         0.        ]\n",
      " [0.         0.         0.         0.         0.         0.\n",
      "  0.         0.         0.         1.00334337 0.         0.\n",
      "  0.         0.        ]\n",
      " [0.         0.         0.         0.         0.         0.\n",
      "  0.         0.         0.         0.         0.50353286 0.\n",
      "  0.         0.        ]\n",
      " [0.         0.         0.         0.         0.         0.\n",
      "  0.         0.         0.         0.         0.         1.32683672\n",
      "  0.         0.        ]\n",
      " [0.         0.         0.         0.         0.         0.\n",
      "  0.         0.         0.         0.         0.         0.\n",
      "  0.46336238 0.        ]\n",
      " [0.         0.         0.         0.         0.         0.\n",
      "  0.         0.         0.         0.         0.         0.\n",
      "  0.         0.38903823]]\n"
     ]
    }
   ],
   "source": [
    "# compute std\n",
    "var_ls = []\n",
    "X_var = np.var(X_n, axis = 1)\n",
    "X_var = np.ravel(X_var)\n",
    "print(X_var.shape)\n",
    "print(X_var)\n",
    "for i in range(v.shape[0]):\n",
    "    s = np.sum(np.square(np.ravel(v[i, :])))\n",
    "    sig_2 = X_var[i] - s\n",
    "    var_ls.append(sig_2)\n",
    "var_ls = np.array(var_ls)\n",
    "s = np.diag(var_ls)\n",
    "print(s)"
   ]
  },
  {
   "cell_type": "code",
   "execution_count": 24,
   "id": "narrow-salmon",
   "metadata": {},
   "outputs": [
    {
     "name": "stdout",
     "output_type": "stream",
     "text": [
      "(3, 14)\n",
      "[[-0.10580392 -0.06063097 -0.08453211 -0.03571301 -0.1262144  -0.12137862\n",
      "  -0.13922513 -0.16629195 -0.09503427 -0.07963447 -0.07888021 -0.06365334\n",
      "  -0.0793249  -0.14230927]\n",
      " [-0.18451462 -0.2319447  -0.2435102  -0.17897573  0.09580334 -0.04581331\n",
      "   0.09430532  0.10427343  0.03144506  0.01118984  0.02123786  0.02152568\n",
      "   0.0233128   0.10390693]\n",
      " [-0.02864458  0.00445306 -0.04052911 -0.03457271 -0.17240676 -0.07868107\n",
      "  -0.14585269 -0.00203799  0.23625016  0.1964674   0.22882555  0.08858214\n",
      "   0.23304814 -0.14682961]]\n"
     ]
    }
   ],
   "source": [
    "# Dimensionality reduction transformation\n",
    "c1_inv = np.linalg.inv(c1)\n",
    "w = v.T@c1_inv\n",
    "print(w.shape)\n",
    "print(w)"
   ]
  },
  {
   "cell_type": "code",
   "execution_count": 26,
   "id": "matched-cambridge",
   "metadata": {},
   "outputs": [
    {
     "name": "stdout",
     "output_type": "stream",
     "text": [
      "[[-1.17813457  0.77690998 -0.17824378]\n",
      " [ 1.64286334 -0.89139133  0.56877708]\n",
      " [-1.06568195  1.37490904 -0.5429592 ]\n",
      " ...\n",
      " [ 0.10159264  1.73737597  0.01210009]\n",
      " [ 1.87354186  0.06824035  1.3963161 ]\n",
      " [ 2.16462    -0.64493744  0.26353567]]\n"
     ]
    }
   ],
   "source": [
    "z = w@X_n\n",
    "z1 = z.T\n",
    "print(z1)"
   ]
  }
 ],
 "metadata": {
  "kernelspec": {
   "display_name": "Python 3",
   "language": "python",
   "name": "python3"
  },
  "language_info": {
   "codemirror_mode": {
    "name": "ipython",
    "version": 3
   },
   "file_extension": ".py",
   "mimetype": "text/x-python",
   "name": "python",
   "nbconvert_exporter": "python",
   "pygments_lexer": "ipython3",
   "version": "3.7.4"
  }
 },
 "nbformat": 4,
 "nbformat_minor": 5
}
